{
  "cells": [
    {
      "cell_type": "code",
      "execution_count": 4,
      "metadata": {
        "id": "pNrkfaZWtJJ7"
      },
      "outputs": [],
      "source": [
        "import pandas as pd\n",
        "import matplotlib.pyplot as plt\n",
        "import seaborn as sns\n",
        "from sklearn.model_selection import train_test_split\n",
        "from sklearn.linear_model import LinearRegression\n",
        "from sklearn.linear_model import Lasso\n",
        "from sklearn import metrics"
      ]
    },
    {
      "cell_type": "code",
      "execution_count": 5,
      "metadata": {
        "id": "k0lBJoM90JHf"
      },
      "outputs": [],
      "source": [
        "# Ucitavamo podatke iz csv podatke u pandas okvir podataka\n",
        "car_dataset = pd.read_csv('/content/car_data.csv')"
      ]
    },
    {
      "cell_type": "code",
      "execution_count": 6,
      "metadata": {
        "colab": {
          "base_uri": "https://localhost:8080/",
          "height": 206
        },
        "id": "9YKIoB-i0kIi",
        "outputId": "4c1a9a8f-bc1c-4b20-8c72-68f5b2a45038"
      },
      "outputs": [
        {
          "output_type": "execute_result",
          "data": {
            "text/plain": [
              "  Ime_automobila  Godiste  Prodajna_cena  Sadasnja_cena  Kilometraza  \\\n",
              "0           Ritz     2014           4020         6708.0        27000   \n",
              "1            sx4     2013           5700        11448.0        43000   \n",
              "2           Ciaz     2017           8700        11820.0         6900   \n",
              "3        Wagon R     2011           3420         4980.0         5200   \n",
              "4          Swift     2014           5520         8244.0        42450   \n",
              "\n",
              "  Tip_goriva Tip_prodavca Tip_prenosa  Broj_Vlasnika  \n",
              "0     Benzin     AutoKuca    Manuelni              0  \n",
              "1      Dizel     AutoKuca    Manuelni              0  \n",
              "2     Benzin     AutoKuca    Manuelni              0  \n",
              "3     Benzin     AutoKuca    Manuelni              0  \n",
              "4      Dizel     AutoKuca    Manuelni              0  "
            ],
            "text/html": [
              "\n",
              "  <div id=\"df-59a2f9b1-0890-439c-99ed-7e8acac148ab\">\n",
              "    <div class=\"colab-df-container\">\n",
              "      <div>\n",
              "<style scoped>\n",
              "    .dataframe tbody tr th:only-of-type {\n",
              "        vertical-align: middle;\n",
              "    }\n",
              "\n",
              "    .dataframe tbody tr th {\n",
              "        vertical-align: top;\n",
              "    }\n",
              "\n",
              "    .dataframe thead th {\n",
              "        text-align: right;\n",
              "    }\n",
              "</style>\n",
              "<table border=\"1\" class=\"dataframe\">\n",
              "  <thead>\n",
              "    <tr style=\"text-align: right;\">\n",
              "      <th></th>\n",
              "      <th>Ime_automobila</th>\n",
              "      <th>Godiste</th>\n",
              "      <th>Prodajna_cena</th>\n",
              "      <th>Sadasnja_cena</th>\n",
              "      <th>Kilometraza</th>\n",
              "      <th>Tip_goriva</th>\n",
              "      <th>Tip_prodavca</th>\n",
              "      <th>Tip_prenosa</th>\n",
              "      <th>Broj_Vlasnika</th>\n",
              "    </tr>\n",
              "  </thead>\n",
              "  <tbody>\n",
              "    <tr>\n",
              "      <th>0</th>\n",
              "      <td>Ritz</td>\n",
              "      <td>2014</td>\n",
              "      <td>4020</td>\n",
              "      <td>6708.0</td>\n",
              "      <td>27000</td>\n",
              "      <td>Benzin</td>\n",
              "      <td>AutoKuca</td>\n",
              "      <td>Manuelni</td>\n",
              "      <td>0</td>\n",
              "    </tr>\n",
              "    <tr>\n",
              "      <th>1</th>\n",
              "      <td>sx4</td>\n",
              "      <td>2013</td>\n",
              "      <td>5700</td>\n",
              "      <td>11448.0</td>\n",
              "      <td>43000</td>\n",
              "      <td>Dizel</td>\n",
              "      <td>AutoKuca</td>\n",
              "      <td>Manuelni</td>\n",
              "      <td>0</td>\n",
              "    </tr>\n",
              "    <tr>\n",
              "      <th>2</th>\n",
              "      <td>Ciaz</td>\n",
              "      <td>2017</td>\n",
              "      <td>8700</td>\n",
              "      <td>11820.0</td>\n",
              "      <td>6900</td>\n",
              "      <td>Benzin</td>\n",
              "      <td>AutoKuca</td>\n",
              "      <td>Manuelni</td>\n",
              "      <td>0</td>\n",
              "    </tr>\n",
              "    <tr>\n",
              "      <th>3</th>\n",
              "      <td>Wagon R</td>\n",
              "      <td>2011</td>\n",
              "      <td>3420</td>\n",
              "      <td>4980.0</td>\n",
              "      <td>5200</td>\n",
              "      <td>Benzin</td>\n",
              "      <td>AutoKuca</td>\n",
              "      <td>Manuelni</td>\n",
              "      <td>0</td>\n",
              "    </tr>\n",
              "    <tr>\n",
              "      <th>4</th>\n",
              "      <td>Swift</td>\n",
              "      <td>2014</td>\n",
              "      <td>5520</td>\n",
              "      <td>8244.0</td>\n",
              "      <td>42450</td>\n",
              "      <td>Dizel</td>\n",
              "      <td>AutoKuca</td>\n",
              "      <td>Manuelni</td>\n",
              "      <td>0</td>\n",
              "    </tr>\n",
              "  </tbody>\n",
              "</table>\n",
              "</div>\n",
              "      <button class=\"colab-df-convert\" onclick=\"convertToInteractive('df-59a2f9b1-0890-439c-99ed-7e8acac148ab')\"\n",
              "              title=\"Convert this dataframe to an interactive table.\"\n",
              "              style=\"display:none;\">\n",
              "        \n",
              "  <svg xmlns=\"http://www.w3.org/2000/svg\" height=\"24px\"viewBox=\"0 0 24 24\"\n",
              "       width=\"24px\">\n",
              "    <path d=\"M0 0h24v24H0V0z\" fill=\"none\"/>\n",
              "    <path d=\"M18.56 5.44l.94 2.06.94-2.06 2.06-.94-2.06-.94-.94-2.06-.94 2.06-2.06.94zm-11 1L8.5 8.5l.94-2.06 2.06-.94-2.06-.94L8.5 2.5l-.94 2.06-2.06.94zm10 10l.94 2.06.94-2.06 2.06-.94-2.06-.94-.94-2.06-.94 2.06-2.06.94z\"/><path d=\"M17.41 7.96l-1.37-1.37c-.4-.4-.92-.59-1.43-.59-.52 0-1.04.2-1.43.59L10.3 9.45l-7.72 7.72c-.78.78-.78 2.05 0 2.83L4 21.41c.39.39.9.59 1.41.59.51 0 1.02-.2 1.41-.59l7.78-7.78 2.81-2.81c.8-.78.8-2.07 0-2.86zM5.41 20L4 18.59l7.72-7.72 1.47 1.35L5.41 20z\"/>\n",
              "  </svg>\n",
              "      </button>\n",
              "      \n",
              "  <style>\n",
              "    .colab-df-container {\n",
              "      display:flex;\n",
              "      flex-wrap:wrap;\n",
              "      gap: 12px;\n",
              "    }\n",
              "\n",
              "    .colab-df-convert {\n",
              "      background-color: #E8F0FE;\n",
              "      border: none;\n",
              "      border-radius: 50%;\n",
              "      cursor: pointer;\n",
              "      display: none;\n",
              "      fill: #1967D2;\n",
              "      height: 32px;\n",
              "      padding: 0 0 0 0;\n",
              "      width: 32px;\n",
              "    }\n",
              "\n",
              "    .colab-df-convert:hover {\n",
              "      background-color: #E2EBFA;\n",
              "      box-shadow: 0px 1px 2px rgba(60, 64, 67, 0.3), 0px 1px 3px 1px rgba(60, 64, 67, 0.15);\n",
              "      fill: #174EA6;\n",
              "    }\n",
              "\n",
              "    [theme=dark] .colab-df-convert {\n",
              "      background-color: #3B4455;\n",
              "      fill: #D2E3FC;\n",
              "    }\n",
              "\n",
              "    [theme=dark] .colab-df-convert:hover {\n",
              "      background-color: #434B5C;\n",
              "      box-shadow: 0px 1px 3px 1px rgba(0, 0, 0, 0.15);\n",
              "      filter: drop-shadow(0px 1px 2px rgba(0, 0, 0, 0.3));\n",
              "      fill: #FFFFFF;\n",
              "    }\n",
              "  </style>\n",
              "\n",
              "      <script>\n",
              "        const buttonEl =\n",
              "          document.querySelector('#df-59a2f9b1-0890-439c-99ed-7e8acac148ab button.colab-df-convert');\n",
              "        buttonEl.style.display =\n",
              "          google.colab.kernel.accessAllowed ? 'block' : 'none';\n",
              "\n",
              "        async function convertToInteractive(key) {\n",
              "          const element = document.querySelector('#df-59a2f9b1-0890-439c-99ed-7e8acac148ab');\n",
              "          const dataTable =\n",
              "            await google.colab.kernel.invokeFunction('convertToInteractive',\n",
              "                                                     [key], {});\n",
              "          if (!dataTable) return;\n",
              "\n",
              "          const docLinkHtml = 'Like what you see? Visit the ' +\n",
              "            '<a target=\"_blank\" href=https://colab.research.google.com/notebooks/data_table.ipynb>data table notebook</a>'\n",
              "            + ' to learn more about interactive tables.';\n",
              "          element.innerHTML = '';\n",
              "          dataTable['output_type'] = 'display_data';\n",
              "          await google.colab.output.renderOutput(dataTable, element);\n",
              "          const docLink = document.createElement('div');\n",
              "          docLink.innerHTML = docLinkHtml;\n",
              "          element.appendChild(docLink);\n",
              "        }\n",
              "      </script>\n",
              "    </div>\n",
              "  </div>\n",
              "  "
            ]
          },
          "metadata": {},
          "execution_count": 6
        }
      ],
      "source": [
        "# Pregledamo prvih pet redova okvira podataka\n",
        "car_dataset.head()"
      ]
    },
    {
      "cell_type": "code",
      "execution_count": 7,
      "metadata": {
        "colab": {
          "base_uri": "https://localhost:8080/"
        },
        "id": "rpNJj7TN0s0F",
        "outputId": "60cc095d-96b5-47e5-f222-00f8c8b22fe5"
      },
      "outputs": [
        {
          "output_type": "execute_result",
          "data": {
            "text/plain": [
              "(301, 9)"
            ]
          },
          "metadata": {},
          "execution_count": 7
        }
      ],
      "source": [
        "# Provera broja redova i kolona\n",
        "car_dataset.shape"
      ]
    },
    {
      "cell_type": "code",
      "execution_count": 9,
      "metadata": {
        "colab": {
          "base_uri": "https://localhost:8080/"
        },
        "id": "uxeZ9Px708Ek",
        "outputId": "422fab88-e61a-4b3e-b7b9-9ba0ae883828"
      },
      "outputs": [
        {
          "output_type": "stream",
          "name": "stdout",
          "text": [
            "<class 'pandas.core.frame.DataFrame'>\n",
            "RangeIndex: 301 entries, 0 to 300\n",
            "Data columns (total 9 columns):\n",
            " #   Column          Non-Null Count  Dtype  \n",
            "---  ------          --------------  -----  \n",
            " 0   Ime_automobila  301 non-null    object \n",
            " 1   Godiste         301 non-null    int64  \n",
            " 2   Prodajna_cena   301 non-null    int64  \n",
            " 3   Sadasnja_cena   301 non-null    float64\n",
            " 4   Kilometraza     301 non-null    int64  \n",
            " 5   Tip_goriva      301 non-null    object \n",
            " 6   Tip_prodavca    301 non-null    object \n",
            " 7   Tip_prenosa     301 non-null    object \n",
            " 8   Broj_Vlasnika   301 non-null    int64  \n",
            "dtypes: float64(1), int64(4), object(4)\n",
            "memory usage: 21.3+ KB\n"
          ]
        }
      ],
      "source": [
        "# Dobijanje informacija o ovom skupu podataka\n",
        "car_dataset.info()"
      ]
    },
    {
      "cell_type": "code",
      "execution_count": 10,
      "metadata": {
        "colab": {
          "base_uri": "https://localhost:8080/"
        },
        "id": "wZSbDnmM1O_V",
        "outputId": "0aa74aa2-50c7-4943-bb92-69640da00e4f"
      },
      "outputs": [
        {
          "output_type": "execute_result",
          "data": {
            "text/plain": [
              "Ime_automobila    0\n",
              "Godiste           0\n",
              "Prodajna_cena     0\n",
              "Sadasnja_cena     0\n",
              "Kilometraza       0\n",
              "Tip_goriva        0\n",
              "Tip_prodavca      0\n",
              "Tip_prenosa       0\n",
              "Broj_Vlasnika     0\n",
              "dtype: int64"
            ]
          },
          "metadata": {},
          "execution_count": 10
        }
      ],
      "source": [
        "# Provera broja nedostajucih vrednosti u redu\n",
        "car_dataset.isnull().sum()"
      ]
    },
    {
      "cell_type": "code",
      "execution_count": 11,
      "metadata": {
        "colab": {
          "base_uri": "https://localhost:8080/"
        },
        "id": "jKeM03IO1kSz",
        "outputId": "1801c286-46ae-47c0-bf44-e363e4aba357"
      },
      "outputs": [
        {
          "output_type": "stream",
          "name": "stdout",
          "text": [
            "Benzin    239\n",
            "Dizel      60\n",
            "Gas         2\n",
            "Name: Tip_goriva, dtype: int64\n",
            "AutoKuca    195\n",
            "Prodavac    106\n",
            "Name: Tip_prodavca, dtype: int64\n",
            "Manuelni     261\n",
            "Automatik     40\n",
            "Name: Tip_prenosa, dtype: int64\n"
          ]
        }
      ],
      "source": [
        "# Provera distribucije kategoricnih podataka\n",
        "print(car_dataset.Tip_goriva.value_counts())\n",
        "print(car_dataset.Tip_prodavca.value_counts())\n",
        "print(car_dataset.Tip_prenosa.value_counts())"
      ]
    },
    {
      "cell_type": "code",
      "execution_count": 12,
      "metadata": {
        "id": "fNbLsAdU2LAA"
      },
      "outputs": [],
      "source": [
        "\n",
        "# Kodiranje \"Tip_goriva\" kolone\n",
        "car_dataset.replace({'Tip_goriva':{'Benzin':0,'Dizel':1,'Gas':2}},inplace=True)\n",
        "\n",
        "# Kodiranje \"Tip_prodavca\" kolone\n",
        "car_dataset.replace({'Tip_prodavca':{'AutoKuca':0,'Prodavac':1}},inplace=True)\n",
        "\n",
        "# Kodiranje \"Tip_prenosa\" kolone\n",
        "car_dataset.replace({'Tip_prenosa':{'Manuelni':0,'Automatik':1}},inplace=True)"
      ]
    },
    {
      "cell_type": "code",
      "execution_count": 13,
      "metadata": {
        "colab": {
          "base_uri": "https://localhost:8080/",
          "height": 206
        },
        "id": "dR-puwbW3UZc",
        "outputId": "d52a834c-16da-4012-8c28-7a91cc92d6b8"
      },
      "outputs": [
        {
          "output_type": "execute_result",
          "data": {
            "text/plain": [
              "  Ime_automobila  Godiste  Prodajna_cena  Sadasnja_cena  Kilometraza  \\\n",
              "0           Ritz     2014           4020         6708.0        27000   \n",
              "1            sx4     2013           5700        11448.0        43000   \n",
              "2           Ciaz     2017           8700        11820.0         6900   \n",
              "3        Wagon R     2011           3420         4980.0         5200   \n",
              "4          Swift     2014           5520         8244.0        42450   \n",
              "\n",
              "   Tip_goriva  Tip_prodavca  Tip_prenosa  Broj_Vlasnika  \n",
              "0           0             0            0              0  \n",
              "1           1             0            0              0  \n",
              "2           0             0            0              0  \n",
              "3           0             0            0              0  \n",
              "4           1             0            0              0  "
            ],
            "text/html": [
              "\n",
              "  <div id=\"df-af20bd3a-7751-4675-be16-4e35636d248c\">\n",
              "    <div class=\"colab-df-container\">\n",
              "      <div>\n",
              "<style scoped>\n",
              "    .dataframe tbody tr th:only-of-type {\n",
              "        vertical-align: middle;\n",
              "    }\n",
              "\n",
              "    .dataframe tbody tr th {\n",
              "        vertical-align: top;\n",
              "    }\n",
              "\n",
              "    .dataframe thead th {\n",
              "        text-align: right;\n",
              "    }\n",
              "</style>\n",
              "<table border=\"1\" class=\"dataframe\">\n",
              "  <thead>\n",
              "    <tr style=\"text-align: right;\">\n",
              "      <th></th>\n",
              "      <th>Ime_automobila</th>\n",
              "      <th>Godiste</th>\n",
              "      <th>Prodajna_cena</th>\n",
              "      <th>Sadasnja_cena</th>\n",
              "      <th>Kilometraza</th>\n",
              "      <th>Tip_goriva</th>\n",
              "      <th>Tip_prodavca</th>\n",
              "      <th>Tip_prenosa</th>\n",
              "      <th>Broj_Vlasnika</th>\n",
              "    </tr>\n",
              "  </thead>\n",
              "  <tbody>\n",
              "    <tr>\n",
              "      <th>0</th>\n",
              "      <td>Ritz</td>\n",
              "      <td>2014</td>\n",
              "      <td>4020</td>\n",
              "      <td>6708.0</td>\n",
              "      <td>27000</td>\n",
              "      <td>0</td>\n",
              "      <td>0</td>\n",
              "      <td>0</td>\n",
              "      <td>0</td>\n",
              "    </tr>\n",
              "    <tr>\n",
              "      <th>1</th>\n",
              "      <td>sx4</td>\n",
              "      <td>2013</td>\n",
              "      <td>5700</td>\n",
              "      <td>11448.0</td>\n",
              "      <td>43000</td>\n",
              "      <td>1</td>\n",
              "      <td>0</td>\n",
              "      <td>0</td>\n",
              "      <td>0</td>\n",
              "    </tr>\n",
              "    <tr>\n",
              "      <th>2</th>\n",
              "      <td>Ciaz</td>\n",
              "      <td>2017</td>\n",
              "      <td>8700</td>\n",
              "      <td>11820.0</td>\n",
              "      <td>6900</td>\n",
              "      <td>0</td>\n",
              "      <td>0</td>\n",
              "      <td>0</td>\n",
              "      <td>0</td>\n",
              "    </tr>\n",
              "    <tr>\n",
              "      <th>3</th>\n",
              "      <td>Wagon R</td>\n",
              "      <td>2011</td>\n",
              "      <td>3420</td>\n",
              "      <td>4980.0</td>\n",
              "      <td>5200</td>\n",
              "      <td>0</td>\n",
              "      <td>0</td>\n",
              "      <td>0</td>\n",
              "      <td>0</td>\n",
              "    </tr>\n",
              "    <tr>\n",
              "      <th>4</th>\n",
              "      <td>Swift</td>\n",
              "      <td>2014</td>\n",
              "      <td>5520</td>\n",
              "      <td>8244.0</td>\n",
              "      <td>42450</td>\n",
              "      <td>1</td>\n",
              "      <td>0</td>\n",
              "      <td>0</td>\n",
              "      <td>0</td>\n",
              "    </tr>\n",
              "  </tbody>\n",
              "</table>\n",
              "</div>\n",
              "      <button class=\"colab-df-convert\" onclick=\"convertToInteractive('df-af20bd3a-7751-4675-be16-4e35636d248c')\"\n",
              "              title=\"Convert this dataframe to an interactive table.\"\n",
              "              style=\"display:none;\">\n",
              "        \n",
              "  <svg xmlns=\"http://www.w3.org/2000/svg\" height=\"24px\"viewBox=\"0 0 24 24\"\n",
              "       width=\"24px\">\n",
              "    <path d=\"M0 0h24v24H0V0z\" fill=\"none\"/>\n",
              "    <path d=\"M18.56 5.44l.94 2.06.94-2.06 2.06-.94-2.06-.94-.94-2.06-.94 2.06-2.06.94zm-11 1L8.5 8.5l.94-2.06 2.06-.94-2.06-.94L8.5 2.5l-.94 2.06-2.06.94zm10 10l.94 2.06.94-2.06 2.06-.94-2.06-.94-.94-2.06-.94 2.06-2.06.94z\"/><path d=\"M17.41 7.96l-1.37-1.37c-.4-.4-.92-.59-1.43-.59-.52 0-1.04.2-1.43.59L10.3 9.45l-7.72 7.72c-.78.78-.78 2.05 0 2.83L4 21.41c.39.39.9.59 1.41.59.51 0 1.02-.2 1.41-.59l7.78-7.78 2.81-2.81c.8-.78.8-2.07 0-2.86zM5.41 20L4 18.59l7.72-7.72 1.47 1.35L5.41 20z\"/>\n",
              "  </svg>\n",
              "      </button>\n",
              "      \n",
              "  <style>\n",
              "    .colab-df-container {\n",
              "      display:flex;\n",
              "      flex-wrap:wrap;\n",
              "      gap: 12px;\n",
              "    }\n",
              "\n",
              "    .colab-df-convert {\n",
              "      background-color: #E8F0FE;\n",
              "      border: none;\n",
              "      border-radius: 50%;\n",
              "      cursor: pointer;\n",
              "      display: none;\n",
              "      fill: #1967D2;\n",
              "      height: 32px;\n",
              "      padding: 0 0 0 0;\n",
              "      width: 32px;\n",
              "    }\n",
              "\n",
              "    .colab-df-convert:hover {\n",
              "      background-color: #E2EBFA;\n",
              "      box-shadow: 0px 1px 2px rgba(60, 64, 67, 0.3), 0px 1px 3px 1px rgba(60, 64, 67, 0.15);\n",
              "      fill: #174EA6;\n",
              "    }\n",
              "\n",
              "    [theme=dark] .colab-df-convert {\n",
              "      background-color: #3B4455;\n",
              "      fill: #D2E3FC;\n",
              "    }\n",
              "\n",
              "    [theme=dark] .colab-df-convert:hover {\n",
              "      background-color: #434B5C;\n",
              "      box-shadow: 0px 1px 3px 1px rgba(0, 0, 0, 0.15);\n",
              "      filter: drop-shadow(0px 1px 2px rgba(0, 0, 0, 0.3));\n",
              "      fill: #FFFFFF;\n",
              "    }\n",
              "  </style>\n",
              "\n",
              "      <script>\n",
              "        const buttonEl =\n",
              "          document.querySelector('#df-af20bd3a-7751-4675-be16-4e35636d248c button.colab-df-convert');\n",
              "        buttonEl.style.display =\n",
              "          google.colab.kernel.accessAllowed ? 'block' : 'none';\n",
              "\n",
              "        async function convertToInteractive(key) {\n",
              "          const element = document.querySelector('#df-af20bd3a-7751-4675-be16-4e35636d248c');\n",
              "          const dataTable =\n",
              "            await google.colab.kernel.invokeFunction('convertToInteractive',\n",
              "                                                     [key], {});\n",
              "          if (!dataTable) return;\n",
              "\n",
              "          const docLinkHtml = 'Like what you see? Visit the ' +\n",
              "            '<a target=\"_blank\" href=https://colab.research.google.com/notebooks/data_table.ipynb>data table notebook</a>'\n",
              "            + ' to learn more about interactive tables.';\n",
              "          element.innerHTML = '';\n",
              "          dataTable['output_type'] = 'display_data';\n",
              "          await google.colab.output.renderOutput(dataTable, element);\n",
              "          const docLink = document.createElement('div');\n",
              "          docLink.innerHTML = docLinkHtml;\n",
              "          element.appendChild(docLink);\n",
              "        }\n",
              "      </script>\n",
              "    </div>\n",
              "  </div>\n",
              "  "
            ]
          },
          "metadata": {},
          "execution_count": 13
        }
      ],
      "source": [
        "car_dataset.head()"
      ]
    },
    {
      "cell_type": "markdown",
      "metadata": {
        "id": "d2AVNy1h3kni"
      },
      "source": [
        "Deljenje podataka na treining i test podatke"
      ]
    },
    {
      "cell_type": "code",
      "execution_count": 14,
      "metadata": {
        "id": "XHdzrIlV3baN"
      },
      "outputs": [],
      "source": [
        "X = car_dataset.drop(['Ime_automobila','Prodajna_cena'],axis=1)\n",
        "Y = car_dataset['Prodajna_cena']"
      ]
    },
    {
      "cell_type": "code",
      "execution_count": 15,
      "metadata": {
        "colab": {
          "base_uri": "https://localhost:8080/"
        },
        "id": "vJKZIXOI4ISG",
        "outputId": "d9070154-95f0-4c7b-9f9c-3d2228fa83d9"
      },
      "outputs": [
        {
          "output_type": "stream",
          "name": "stdout",
          "text": [
            "     Godiste  Sadasnja_cena  Kilometraza  Tip_goriva  Tip_prodavca  \\\n",
            "0       2014         6708.0        27000           0             0   \n",
            "1       2013        11448.0        43000           1             0   \n",
            "2       2017        11820.0         6900           0             0   \n",
            "3       2011         4980.0         5200           0             0   \n",
            "4       2014         8244.0        42450           1             0   \n",
            "..       ...            ...          ...         ...           ...   \n",
            "296     2016        13920.0        33988           1             0   \n",
            "297     2015         7080.0        60000           0             0   \n",
            "298     2009        13200.0        87934           0             0   \n",
            "299     2017        15000.0         9000           1             0   \n",
            "300     2016         7080.0         5464           0             0   \n",
            "\n",
            "     Tip_prenosa  Broj_Vlasnika  \n",
            "0              0              0  \n",
            "1              0              0  \n",
            "2              0              0  \n",
            "3              0              0  \n",
            "4              0              0  \n",
            "..           ...            ...  \n",
            "296            0              0  \n",
            "297            0              0  \n",
            "298            0              0  \n",
            "299            0              0  \n",
            "300            0              0  \n",
            "\n",
            "[301 rows x 7 columns]\n"
          ]
        }
      ],
      "source": [
        "print(X)"
      ]
    },
    {
      "cell_type": "code",
      "execution_count": 16,
      "metadata": {
        "colab": {
          "base_uri": "https://localhost:8080/"
        },
        "id": "U5LIqrS54N9W",
        "outputId": "3390d0f0-d7b3-424e-8d1a-a8820b77b2ef"
      },
      "outputs": [
        {
          "output_type": "stream",
          "name": "stdout",
          "text": [
            "0       4020\n",
            "1       5700\n",
            "2       8700\n",
            "3       3420\n",
            "4       5520\n",
            "       ...  \n",
            "296    11400\n",
            "297     4800\n",
            "298     4020\n",
            "299    13800\n",
            "300     6360\n",
            "Name: Prodajna_cena, Length: 301, dtype: int64\n"
          ]
        }
      ],
      "source": [
        "print(Y)"
      ]
    },
    {
      "cell_type": "markdown",
      "metadata": {
        "id": "w62e_VA84ZIS"
      },
      "source": [
        "Deljenje trening i test podataka"
      ]
    },
    {
      "cell_type": "code",
      "execution_count": 17,
      "metadata": {
        "id": "p2cYl_Nw4SQ3"
      },
      "outputs": [],
      "source": [
        "X_train, X_test, Y_train, Y_test = train_test_split(X, Y, test_size = 0.1, random_state=2)"
      ]
    },
    {
      "cell_type": "markdown",
      "metadata": {
        "id": "CTzEpu6F5M5A"
      },
      "source": [
        "1. Linearna regresija"
      ]
    },
    {
      "cell_type": "code",
      "execution_count": 18,
      "metadata": {
        "id": "iLqTMiKd5IWH"
      },
      "outputs": [],
      "source": [
        "# Ucitavamo model linearne regresije\n",
        "lin_reg_model = LinearRegression()"
      ]
    },
    {
      "cell_type": "code",
      "execution_count": 19,
      "metadata": {
        "colab": {
          "base_uri": "https://localhost:8080/"
        },
        "id": "UWUCK59R5Z4X",
        "outputId": "6ca64c99-dc15-4280-ff2c-a671cc187f67"
      },
      "outputs": [
        {
          "output_type": "execute_result",
          "data": {
            "text/plain": [
              "LinearRegression()"
            ]
          },
          "metadata": {},
          "execution_count": 19
        }
      ],
      "source": [
        "lin_reg_model.fit(X_train,Y_train)"
      ]
    },
    {
      "cell_type": "code",
      "execution_count": 20,
      "metadata": {
        "id": "u8Wu4xMD5iW8"
      },
      "outputs": [],
      "source": [
        "# Predvidjanje na trening podacima\n",
        "training_data_prediction = lin_reg_model.predict(X_train)"
      ]
    },
    {
      "cell_type": "code",
      "execution_count": 21,
      "metadata": {
        "colab": {
          "base_uri": "https://localhost:8080/"
        },
        "id": "JdHP3HWx528E",
        "outputId": "93c54647-8fe2-4c0d-e246-0f03385b222d"
      },
      "outputs": [
        {
          "output_type": "stream",
          "name": "stdout",
          "text": [
            "R kvadratna greska :  0.8799451660493711\n"
          ]
        }
      ],
      "source": [
        "# R kvadratna greska\n",
        "error_score = metrics.r2_score(Y_train, training_data_prediction)\n",
        "print(\"R kvadratna greska : \", error_score)"
      ]
    },
    {
      "cell_type": "markdown",
      "metadata": {
        "id": "b3RfnkFq6jrH"
      },
      "source": [
        "Prikaz stvarnih i predvidjenih cena"
      ]
    },
    {
      "cell_type": "code",
      "execution_count": 22,
      "metadata": {
        "colab": {
          "base_uri": "https://localhost:8080/",
          "height": 295
        },
        "id": "5jukF7Vc6P48",
        "outputId": "09f65e46-8ac8-4e74-a727-028109069342"
      },
      "outputs": [
        {
          "output_type": "display_data",
          "data": {
            "text/plain": [
              "<Figure size 432x288 with 1 Axes>"
            ],
            "image/png": "[encoded data removed]"
          },
          "metadata": {
            "needs_background": "light"
          }
        }
      ],
      "source": [
        "plt.scatter(Y_train, training_data_prediction)\n",
        "plt.xlabel(\"Stvarna cena\")\n",
        "plt.ylabel(\"Predvidjena cena\")\n",
        "plt.title(\" Stvarna cena vs Predvidjena cena\")\n",
        "plt.show()\n"
      ]
    },
    {
      "cell_type": "code",
      "execution_count": 23,
      "metadata": {
        "id": "iJUq-DiM69fn"
      },
      "outputs": [],
      "source": [
        "# Predvidjanje na test podacima\n",
        "test_data_prediction = lin_reg_model.predict(X_test)"
      ]
    },
    {
      "cell_type": "code",
      "execution_count": 24,
      "metadata": {
        "colab": {
          "base_uri": "https://localhost:8080/"
        },
        "id": "e9h4glEM7XJ1",
        "outputId": "f60b976e-b795-47b8-8415-9f045ff82672"
      },
      "outputs": [
        {
          "output_type": "stream",
          "name": "stdout",
          "text": [
            "R kvadratna greska :  0.8365766715025006\n"
          ]
        }
      ],
      "source": [
        "# R kvadratna greska\n",
        "error_score = metrics.r2_score(Y_test, test_data_prediction)\n",
        "print(\"R kvadratna greska : \", error_score)"
      ]
    },
    {
      "cell_type": "code",
      "execution_count": 25,
      "metadata": {
        "colab": {
          "base_uri": "https://localhost:8080/",
          "height": 295
        },
        "id": "0yP0uxcr7gUE",
        "outputId": "81895757-96f1-42ea-fddc-c8883cb73392"
      },
      "outputs": [
        {
          "output_type": "display_data",
          "data": {
            "text/plain": [
              "<Figure size 432x288 with 1 Axes>"
            ],
            "image/png": "[encoded data removed]"
          },
          "metadata": {
            "needs_background": "light"
          }
        }
      ],
      "source": [
        "plt.scatter(Y_test, test_data_prediction)\n",
        "plt.xlabel(\"Stvarna cena\")\n",
        "plt.ylabel(\"Predvidjena cena\")\n",
        "plt.title(\" Stvarna cena vs Predvidjena cena\")\n",
        "plt.show()"
      ]
    },
    {
      "cell_type": "markdown",
      "metadata": {
        "id": "flNiLHUZ78Mb"
      },
      "source": [
        "2. Laso regresija"
      ]
    },
    {
      "cell_type": "code",
      "execution_count": 26,
      "metadata": {
        "id": "govWJZHc8H4J"
      },
      "outputs": [],
      "source": [
        "# Ucitavanje laso regresionog modela\n",
        "lass_reg_model = Lasso()"
      ]
    },
    {
      "cell_type": "code",
      "execution_count": 27,
      "metadata": {
        "colab": {
          "base_uri": "https://localhost:8080/"
        },
        "id": "N0HnZA1x8H4s",
        "outputId": "4fd05807-e280-41b1-b374-2d46513db251"
      },
      "outputs": [
        {
          "output_type": "execute_result",
          "data": {
            "text/plain": [
              "Lasso()"
            ]
          },
          "metadata": {},
          "execution_count": 27
        }
      ],
      "source": [
        "lass_reg_model.fit(X_train,Y_train)"
      ]
    },
    {
      "cell_type": "code",
      "execution_count": 28,
      "metadata": {
        "id": "mkcC344U8H48"
      },
      "outputs": [],
      "source": [
        "# Predvidjanje na trening podacima\n",
        "training_data_prediction = lass_reg_model.predict(X_train)"
      ]
    },
    {
      "cell_type": "code",
      "execution_count": 29,
      "metadata": {
        "colab": {
          "base_uri": "https://localhost:8080/"
        },
        "id": "D4HRAQMd8H4_",
        "outputId": "cf6b0276-4f2e-4484-f444-1105b5a6f12a"
      },
      "outputs": [
        {
          "output_type": "stream",
          "name": "stdout",
          "text": [
            "R kvadratna greska :  0.8799441686991654\n"
          ]
        }
      ],
      "source": [
        "# R kvadratna greska\n",
        "error_score = metrics.r2_score(Y_train, training_data_prediction)\n",
        "print(\"R kvadratna greska : \", error_score)"
      ]
    },
    {
      "cell_type": "markdown",
      "metadata": {
        "id": "kRo68z988H5B"
      },
      "source": [
        "Vizualizovanje stvarnih i predvidjenih cena"
      ]
    },
    {
      "cell_type": "code",
      "execution_count": 30,
      "metadata": {
        "colab": {
          "base_uri": "https://localhost:8080/",
          "height": 295
        },
        "id": "kXjzFcgu8H5C",
        "outputId": "183a612f-b944-4dd3-cdb2-5783a503afed"
      },
      "outputs": [
        {
          "output_type": "display_data",
          "data": {
            "text/plain": [
              "<Figure size 432x288 with 1 Axes>"
            ],
            "image/png": "[encoded data removed]"
          },
          "metadata": {
            "needs_background": "light"
          }
        }
      ],
      "source": [
        "plt.scatter(Y_train, training_data_prediction)\n",
        "plt.xlabel(\"Stvarna cena\")\n",
        "plt.ylabel(\"Predvidjena cena\")\n",
        "plt.title(\" Stvarna cena vs Predvidjena cena\")\n",
        "plt.show()"
      ]
    },
    {
      "cell_type": "code",
      "execution_count": 31,
      "metadata": {
        "id": "pHXUgmyt8H5E"
      },
      "outputs": [],
      "source": [
        "# Predvidjanje na test podacima\n",
        "test_data_prediction = lass_reg_model.predict(X_test)"
      ]
    },
    {
      "cell_type": "code",
      "execution_count": 32,
      "metadata": {
        "colab": {
          "base_uri": "https://localhost:8080/"
        },
        "id": "ctVd_TB48H5E",
        "outputId": "71498d23-198b-4db9-9966-52c3fffc2635"
      },
      "outputs": [
        {
          "output_type": "stream",
          "name": "stdout",
          "text": [
            "R kvadratna greska :  0.8371323530012718\n"
          ]
        }
      ],
      "source": [
        "# R kvadratna greska\n",
        "error_score = metrics.r2_score(Y_test, test_data_prediction)\n",
        "print(\"R kvadratna greska : \", error_score)"
      ]
    },
    {
      "cell_type": "code",
      "execution_count": 33,
      "metadata": {
        "colab": {
          "base_uri": "https://localhost:8080/",
          "height": 295
        },
        "id": "W_iX2Ctv8H5F",
        "outputId": "db43d381-a362-45b8-a262-8fc7db144b3e"
      },
      "outputs": [
        {
          "output_type": "display_data",
          "data": {
            "text/plain": [
              "<Figure size 432x288 with 1 Axes>"
            ],
            "image/png": "[encoded data removed]"
          },
          "metadata": {
            "needs_background": "light"
          }
        }
      ],
      "source": [
        "plt.scatter(Y_test, test_data_prediction)\n",
        "plt.xlabel(\"Stvarna cena\")\n",
        "plt.ylabel(\"Predvidjena cena\")\n",
        "plt.title(\" Stvarna cena vs Predvidjena cena\")\n",
        "plt.show()"
      ]
    },
    {
      "cell_type": "code",
      "execution_count": null,
      "metadata": {
        "id": "YUasAsqI8g49"
      },
      "outputs": [],
      "source": [
        ""
      ]
    }
  ],
  "metadata": {
    "colab": {
      "name": "Project_Car_Price_Prediction.ipynb",
      "provenance": [],
      "collapsed_sections": []
    },
    "kernelspec": {
      "display_name": "Python 3",
      "name": "python3"
    }
  },
  "nbformat": 4,
  "nbformat_minor": 0
}